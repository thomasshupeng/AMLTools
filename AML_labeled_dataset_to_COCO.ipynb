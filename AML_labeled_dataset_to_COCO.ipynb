{
 "metadata": {
  "language_info": {
   "codemirror_mode": {
    "name": "ipython",
    "version": 3
   },
   "file_extension": ".py",
   "mimetype": "text/x-python",
   "name": "python",
   "nbconvert_exporter": "python",
   "pygments_lexer": "ipython3",
   "version": "3.7.9-final"
  },
  "orig_nbformat": 2,
  "kernelspec": {
   "name": "python3",
   "display_name": "Python 3"
  }
 },
 "nbformat": 4,
 "nbformat_minor": 2,
 "cells": [
  {
   "source": [
    "# Converting AML Labeled Dataset to Coco annotation file \n",
    "\n",
    "Image Multi Label, Image Multi Class\n"
   ],
   "cell_type": "markdown",
   "metadata": {}
  },
  {
   "cell_type": "code",
   "execution_count": null,
   "metadata": {},
   "outputs": [],
   "source": [
    "# azureml-core of version 1.0.72 or higher is required\n",
    "# azureml-dataprep[pandas] of version 1.1.34 or higher is required\n",
    "# azureml-contrib-dataset of version 1.0.72 or higher is required\n",
    "from azureml.core import Workspace, Dataset\n",
    "import azureml.contrib.dataset\n",
    "\n",
    "subscription_id = 'f375b912-331c-4fc5-8e9f-2d7205e3e036'\n",
    "resource_group = 'labeling-canary-rg'\n",
    "workspace_name = 'MLAssistCanary'\n",
    "\n",
    "workspace = Workspace(subscription_id, resource_group, workspace_name)\n",
    "\n",
    "dataset = Dataset.get_by_name(workspace, name='ML(voc2012_ml4)_canary_1123_20201124_205854')"
   ]
  },
  {
   "cell_type": "code",
   "execution_count": null,
   "metadata": {},
   "outputs": [],
   "source": [
    "df = dataset.to_pandas_dataframe()"
   ]
  },
  {
   "cell_type": "code",
   "execution_count": null,
   "metadata": {},
   "outputs": [],
   "source": [
    "project_type = None\n",
    "if dataset.description.find('ImageClassification') != -1:\n",
    "    project_type = \"ImageMultiClass\""
   ]
  },
  {
   "cell_type": "code",
   "execution_count": null,
   "metadata": {},
   "outputs": [],
   "source": [
    "from datetime import datetime\n",
    "category_id_map = {}\n",
    "\n",
    "def get_category_id(category_name: str):\n",
    "    if category_name not in category_id_map:\n",
    "        category_id_map[category_name] = len(category_id_map)+1\n",
    "    return category_id_map[category_name]\n",
    "\n",
    "def convert_df_to_coco(df):\n",
    "    now = datetime.utcnow().isoformat()\n",
    "    # create coco object\n",
    "    images = []\n",
    "    annotations = []\n",
    "    categories = []\n",
    "    image_id = 0\n",
    "    annotation_id = 0\n",
    "    for _, row in df.iterrows():\n",
    "        image_id += 1\n",
    "        for label in row['label']:\n",
    "            annotation_id += 1\n",
    "            category_id = get_category_id(label)\n",
    "            anno = {}\n",
    "            anno['id'] = annotation_id\n",
    "            anno['category_id'] = category_id\n",
    "            anno['image_id'] = image_id\n",
    "            anno['area'] = 0.0\n",
    "            annotations.append(anno)\n",
    "        image = {}\n",
    "        image['id'] = image_id\n",
    "        image['width'] = 0.0\n",
    "        image['height'] = 0.0\n",
    "        image['file_name'] = row['image_url'].resource_identifier\n",
    "        pod = row['image_url'].to_pod()\n",
    "        image['coco_url'] = \"{}://{}/{}\".format(pod['handler'], pod['arguments']['datastoreName'], pod['resourceIdentifier'])\n",
    "        image['date_captured'] = now\n",
    "        images.append(image)\n",
    "        \n",
    "    # build category\n",
    "    for category_name in category_id_map:\n",
    "        category = {}\n",
    "        category['id'] = category_id_map[category_name]\n",
    "        category['name'] = category_name\n",
    "        categories.append(category)\n",
    "        \n",
    "    # coco object\n",
    "    coco_obj = {}\n",
    "    coco_obj['images'] = images\n",
    "    coco_obj['annotations'] = annotations\n",
    "    coco_obj['categories'] = categories\n",
    "    return coco_obj"
   ]
  },
  {
   "cell_type": "code",
   "execution_count": null,
   "metadata": {},
   "outputs": [],
   "source": [
    "coco_obj = convert_df_to_coco(df)"
   ]
  },
  {
   "cell_type": "code",
   "execution_count": null,
   "metadata": {},
   "outputs": [],
   "source": [
    "coco_obj"
   ]
  },
  {
   "cell_type": "code",
   "execution_count": null,
   "metadata": {},
   "outputs": [],
   "source": []
  }
 ]
}